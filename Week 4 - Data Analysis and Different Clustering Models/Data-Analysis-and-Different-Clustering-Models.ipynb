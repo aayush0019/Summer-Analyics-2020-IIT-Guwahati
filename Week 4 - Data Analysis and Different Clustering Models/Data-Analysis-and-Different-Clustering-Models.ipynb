{
 "cells": [
  {
   "cell_type": "code",
   "execution_count": 1,
   "metadata": {
    "colab": {},
    "colab_type": "code",
    "id": "q5RCysOH9jUp"
   },
   "outputs": [],
   "source": [
    "import numpy as np\n",
    "import pandas as pd\n",
    "import matplotlib.pyplot as plt\n",
    "import seaborn as sns"
   ]
  },
  {
   "cell_type": "markdown",
   "metadata": {
    "colab_type": "text",
    "id": "rVRV4pYw9jUt"
   },
   "source": [
    "It is highly recommended to read the documentation before implementing any alogorithm.\n",
    "\n",
    "LINEAR REGRESSION : \n",
    "https://scikit-learn.org/stable/modules/generated/sklearn.linear_model.LinearRegression.html <br>\n",
    "LOGISTIC REGRESSION :\n",
    "https://scikit-learn.org/stable/modules/generated/sklearn.linear_model.LogisticRegression.html<br>\n",
    "SVM REGRESSOR :\n",
    "http://scikit-learn.org/stable/modules/generated/sklearn.svm.SVR.html<br>\n",
    "SVM CLASSIFIER :\n",
    "http://scikit-learn.org/stable/modules/generated/sklearn.svm.SVC.html<br>\n",
    "DECISION TREE CLASSIFIER :\n",
    "https://scikit-learn.org/stable/modules/generated/sklearn.tree.DecisionTreeClassifier.html<br>\n",
    "DECISION TREE Regressor :\n",
    "https://scikit-learn.org/stable/modules/generated/sklearn.tree.DecisionTreeRegressor.html<br>\n",
    "RANDOM FOREST CLASSIFIER :\n",
    "https://scikit-learn.org/stable/modules/generated/sklearn.ensemble.RandomForestClassifier.html<br>\n",
    "RANDOM FOREST CLASSIFIER :\n",
    "https://scikit-learn.org/stable/modules/generated/sklearn.ensemble.RandomForestRegressor.html<br>\n",
    "\n",
    "METRICS:\n",
    "R2_SCORE : http://scikit-learn.org/stable/modules/generated/sklearn.metrics.r2_score.html<br>\n",
    "MSE : http://scikit-learn.org/stable/modules/generated/sklearn.metrics.mean_squared_error.html<br>\n",
    "MAE : http://scikit-learn.org/stable/modules/generated/sklearn.metrics.mean_absolute_error.html<br>\n",
    "Confusion Matrix : https://scikit-learn.org/stable/modules/generated/sklearn.metrics.confusion_matrix.html<br>"
   ]
  },
  {
   "cell_type": "markdown",
   "metadata": {
    "colab_type": "text",
    "id": "_lclLEtp9jUu"
   },
   "source": [
    "WRITE THE CODE FOR IMPORTING THE DATA"
   ]
  },
  {
   "cell_type": "code",
   "execution_count": 2,
   "metadata": {
    "colab": {},
    "colab_type": "code",
    "id": "JRV20Tv-9jUu"
   },
   "outputs": [],
   "source": [
    "#WRITE CODE HERE IMPORT THE DATA AS 'data'\n",
    "data = pd.read_csv(\"WEEK4.csv\")"
   ]
  },
  {
   "cell_type": "code",
   "execution_count": 3,
   "metadata": {},
   "outputs": [
    {
     "data": {
      "text/html": [
       "<div>\n",
       "<style scoped>\n",
       "    .dataframe tbody tr th:only-of-type {\n",
       "        vertical-align: middle;\n",
       "    }\n",
       "\n",
       "    .dataframe tbody tr th {\n",
       "        vertical-align: top;\n",
       "    }\n",
       "\n",
       "    .dataframe thead th {\n",
       "        text-align: right;\n",
       "    }\n",
       "</style>\n",
       "<table border=\"1\" class=\"dataframe\">\n",
       "  <thead>\n",
       "    <tr style=\"text-align: right;\">\n",
       "      <th></th>\n",
       "      <th>price</th>\n",
       "      <th>year</th>\n",
       "      <th>mileage</th>\n",
       "      <th>color</th>\n",
       "      <th>AGE_IN_YEARS</th>\n",
       "      <th>chevrolet</th>\n",
       "      <th>dodge</th>\n",
       "      <th>gmc</th>\n",
       "      <th>jeep</th>\n",
       "      <th>nissan</th>\n",
       "      <th>...</th>\n",
       "      <th>black</th>\n",
       "      <th>blue</th>\n",
       "      <th>gray</th>\n",
       "      <th>no_color</th>\n",
       "      <th>silver</th>\n",
       "      <th>white</th>\n",
       "      <th>Goa</th>\n",
       "      <th>MP</th>\n",
       "      <th>Maharashtra</th>\n",
       "      <th>UP</th>\n",
       "    </tr>\n",
       "  </thead>\n",
       "  <tbody>\n",
       "    <tr>\n",
       "      <th>0</th>\n",
       "      <td>2899</td>\n",
       "      <td>2011</td>\n",
       "      <td>190552.0</td>\n",
       "      <td>silver</td>\n",
       "      <td>3</td>\n",
       "      <td>0</td>\n",
       "      <td>0</td>\n",
       "      <td>0</td>\n",
       "      <td>0</td>\n",
       "      <td>0</td>\n",
       "      <td>...</td>\n",
       "      <td>0</td>\n",
       "      <td>0</td>\n",
       "      <td>0</td>\n",
       "      <td>0</td>\n",
       "      <td>1</td>\n",
       "      <td>0</td>\n",
       "      <td>0</td>\n",
       "      <td>0</td>\n",
       "      <td>0</td>\n",
       "      <td>1</td>\n",
       "    </tr>\n",
       "    <tr>\n",
       "      <th>1</th>\n",
       "      <td>5350</td>\n",
       "      <td>2018</td>\n",
       "      <td>39590.0</td>\n",
       "      <td>silver</td>\n",
       "      <td>2</td>\n",
       "      <td>0</td>\n",
       "      <td>1</td>\n",
       "      <td>0</td>\n",
       "      <td>0</td>\n",
       "      <td>0</td>\n",
       "      <td>...</td>\n",
       "      <td>0</td>\n",
       "      <td>0</td>\n",
       "      <td>0</td>\n",
       "      <td>0</td>\n",
       "      <td>1</td>\n",
       "      <td>0</td>\n",
       "      <td>0</td>\n",
       "      <td>1</td>\n",
       "      <td>0</td>\n",
       "      <td>0</td>\n",
       "    </tr>\n",
       "    <tr>\n",
       "      <th>2</th>\n",
       "      <td>25000</td>\n",
       "      <td>2014</td>\n",
       "      <td>64146.0</td>\n",
       "      <td>blue</td>\n",
       "      <td>2</td>\n",
       "      <td>0</td>\n",
       "      <td>0</td>\n",
       "      <td>0</td>\n",
       "      <td>0</td>\n",
       "      <td>0</td>\n",
       "      <td>...</td>\n",
       "      <td>0</td>\n",
       "      <td>1</td>\n",
       "      <td>0</td>\n",
       "      <td>0</td>\n",
       "      <td>0</td>\n",
       "      <td>0</td>\n",
       "      <td>0</td>\n",
       "      <td>0</td>\n",
       "      <td>0</td>\n",
       "      <td>1</td>\n",
       "    </tr>\n",
       "    <tr>\n",
       "      <th>3</th>\n",
       "      <td>27700</td>\n",
       "      <td>2018</td>\n",
       "      <td>6654.0</td>\n",
       "      <td>red</td>\n",
       "      <td>3</td>\n",
       "      <td>1</td>\n",
       "      <td>0</td>\n",
       "      <td>0</td>\n",
       "      <td>0</td>\n",
       "      <td>0</td>\n",
       "      <td>...</td>\n",
       "      <td>0</td>\n",
       "      <td>0</td>\n",
       "      <td>0</td>\n",
       "      <td>0</td>\n",
       "      <td>0</td>\n",
       "      <td>0</td>\n",
       "      <td>0</td>\n",
       "      <td>0</td>\n",
       "      <td>1</td>\n",
       "      <td>0</td>\n",
       "    </tr>\n",
       "    <tr>\n",
       "      <th>4</th>\n",
       "      <td>5700</td>\n",
       "      <td>2018</td>\n",
       "      <td>45561.0</td>\n",
       "      <td>white</td>\n",
       "      <td>1</td>\n",
       "      <td>0</td>\n",
       "      <td>1</td>\n",
       "      <td>0</td>\n",
       "      <td>0</td>\n",
       "      <td>0</td>\n",
       "      <td>...</td>\n",
       "      <td>0</td>\n",
       "      <td>0</td>\n",
       "      <td>0</td>\n",
       "      <td>0</td>\n",
       "      <td>0</td>\n",
       "      <td>1</td>\n",
       "      <td>0</td>\n",
       "      <td>0</td>\n",
       "      <td>0</td>\n",
       "      <td>1</td>\n",
       "    </tr>\n",
       "  </tbody>\n",
       "</table>\n",
       "<p>5 rows × 21 columns</p>\n",
       "</div>"
      ],
      "text/plain": [
       "   price  year   mileage   color  AGE_IN_YEARS  chevrolet  dodge  gmc  jeep  \\\n",
       "0   2899  2011  190552.0  silver             3          0      0    0     0   \n",
       "1   5350  2018   39590.0  silver             2          0      1    0     0   \n",
       "2  25000  2014   64146.0    blue             2          0      0    0     0   \n",
       "3  27700  2018    6654.0     red             3          1      0    0     0   \n",
       "4   5700  2018   45561.0   white             1          0      1    0     0   \n",
       "\n",
       "   nissan ...  black  blue  gray  no_color  silver  white  Goa  MP  \\\n",
       "0       0 ...      0     0     0         0       1      0    0   0   \n",
       "1       0 ...      0     0     0         0       1      0    0   1   \n",
       "2       0 ...      0     1     0         0       0      0    0   0   \n",
       "3       0 ...      0     0     0         0       0      0    0   0   \n",
       "4       0 ...      0     0     0         0       0      1    0   0   \n",
       "\n",
       "   Maharashtra  UP  \n",
       "0            0   1  \n",
       "1            0   0  \n",
       "2            0   1  \n",
       "3            1   0  \n",
       "4            0   1  \n",
       "\n",
       "[5 rows x 21 columns]"
      ]
     },
     "execution_count": 3,
     "metadata": {},
     "output_type": "execute_result"
    }
   ],
   "source": [
    "data.head()"
   ]
  },
  {
   "cell_type": "code",
   "execution_count": 4,
   "metadata": {},
   "outputs": [
    {
     "data": {
      "text/plain": [
       "Index(['price', 'year', 'mileage', 'color', 'AGE_IN_YEARS', 'chevrolet',\n",
       "       'dodge', 'gmc', 'jeep', 'nissan', 'salvage insurance', 'black', 'blue',\n",
       "       'gray', 'no_color', 'silver', 'white', 'Goa', 'MP', 'Maharashtra',\n",
       "       'UP'],\n",
       "      dtype='object')"
      ]
     },
     "execution_count": 4,
     "metadata": {},
     "output_type": "execute_result"
    }
   ],
   "source": [
    "data.columns"
   ]
  },
  {
   "cell_type": "markdown",
   "metadata": {
    "colab_type": "text",
    "id": "vFgdtQPl9jUx"
   },
   "source": [
    "ONE HOT ENCODING THE COLOR COLUMN AND THEN DROPPING THE COLOR COLUMN"
   ]
  },
  {
   "cell_type": "code",
   "execution_count": 5,
   "metadata": {
    "colab": {},
    "colab_type": "code",
    "id": "wr-anAzs9jUy"
   },
   "outputs": [],
   "source": [
    "#ONE HOT ENCODING THE COLOR COLUMN\n",
    "data = pd.concat([data,pd.get_dummies(data['color']).drop('white',axis=1)],axis = 1)\n",
    "data = data.drop('color',axis = 1)"
   ]
  },
  {
   "cell_type": "code",
   "execution_count": 6,
   "metadata": {
    "colab": {},
    "colab_type": "code",
    "id": "dAxfI_kg9jU0"
   },
   "outputs": [
    {
     "data": {
      "text/html": [
       "<div>\n",
       "<style scoped>\n",
       "    .dataframe tbody tr th:only-of-type {\n",
       "        vertical-align: middle;\n",
       "    }\n",
       "\n",
       "    .dataframe tbody tr th {\n",
       "        vertical-align: top;\n",
       "    }\n",
       "\n",
       "    .dataframe thead th {\n",
       "        text-align: right;\n",
       "    }\n",
       "</style>\n",
       "<table border=\"1\" class=\"dataframe\">\n",
       "  <thead>\n",
       "    <tr style=\"text-align: right;\">\n",
       "      <th></th>\n",
       "      <th>price</th>\n",
       "      <th>year</th>\n",
       "      <th>mileage</th>\n",
       "      <th>AGE_IN_YEARS</th>\n",
       "      <th>chevrolet</th>\n",
       "      <th>dodge</th>\n",
       "      <th>gmc</th>\n",
       "      <th>jeep</th>\n",
       "      <th>nissan</th>\n",
       "      <th>salvage insurance</th>\n",
       "      <th>...</th>\n",
       "      <th>Goa</th>\n",
       "      <th>MP</th>\n",
       "      <th>Maharashtra</th>\n",
       "      <th>UP</th>\n",
       "      <th>black</th>\n",
       "      <th>blue</th>\n",
       "      <th>gray</th>\n",
       "      <th>no_color</th>\n",
       "      <th>red</th>\n",
       "      <th>silver</th>\n",
       "    </tr>\n",
       "  </thead>\n",
       "  <tbody>\n",
       "    <tr>\n",
       "      <th>0</th>\n",
       "      <td>2899</td>\n",
       "      <td>2011</td>\n",
       "      <td>190552.0</td>\n",
       "      <td>3</td>\n",
       "      <td>0</td>\n",
       "      <td>0</td>\n",
       "      <td>0</td>\n",
       "      <td>0</td>\n",
       "      <td>0</td>\n",
       "      <td>0</td>\n",
       "      <td>...</td>\n",
       "      <td>0</td>\n",
       "      <td>0</td>\n",
       "      <td>0</td>\n",
       "      <td>1</td>\n",
       "      <td>0</td>\n",
       "      <td>0</td>\n",
       "      <td>0</td>\n",
       "      <td>0</td>\n",
       "      <td>0</td>\n",
       "      <td>1</td>\n",
       "    </tr>\n",
       "    <tr>\n",
       "      <th>1</th>\n",
       "      <td>5350</td>\n",
       "      <td>2018</td>\n",
       "      <td>39590.0</td>\n",
       "      <td>2</td>\n",
       "      <td>0</td>\n",
       "      <td>1</td>\n",
       "      <td>0</td>\n",
       "      <td>0</td>\n",
       "      <td>0</td>\n",
       "      <td>0</td>\n",
       "      <td>...</td>\n",
       "      <td>0</td>\n",
       "      <td>1</td>\n",
       "      <td>0</td>\n",
       "      <td>0</td>\n",
       "      <td>0</td>\n",
       "      <td>0</td>\n",
       "      <td>0</td>\n",
       "      <td>0</td>\n",
       "      <td>0</td>\n",
       "      <td>1</td>\n",
       "    </tr>\n",
       "    <tr>\n",
       "      <th>2</th>\n",
       "      <td>25000</td>\n",
       "      <td>2014</td>\n",
       "      <td>64146.0</td>\n",
       "      <td>2</td>\n",
       "      <td>0</td>\n",
       "      <td>0</td>\n",
       "      <td>0</td>\n",
       "      <td>0</td>\n",
       "      <td>0</td>\n",
       "      <td>0</td>\n",
       "      <td>...</td>\n",
       "      <td>0</td>\n",
       "      <td>0</td>\n",
       "      <td>0</td>\n",
       "      <td>1</td>\n",
       "      <td>0</td>\n",
       "      <td>1</td>\n",
       "      <td>0</td>\n",
       "      <td>0</td>\n",
       "      <td>0</td>\n",
       "      <td>0</td>\n",
       "    </tr>\n",
       "    <tr>\n",
       "      <th>3</th>\n",
       "      <td>27700</td>\n",
       "      <td>2018</td>\n",
       "      <td>6654.0</td>\n",
       "      <td>3</td>\n",
       "      <td>1</td>\n",
       "      <td>0</td>\n",
       "      <td>0</td>\n",
       "      <td>0</td>\n",
       "      <td>0</td>\n",
       "      <td>0</td>\n",
       "      <td>...</td>\n",
       "      <td>0</td>\n",
       "      <td>0</td>\n",
       "      <td>1</td>\n",
       "      <td>0</td>\n",
       "      <td>0</td>\n",
       "      <td>0</td>\n",
       "      <td>0</td>\n",
       "      <td>0</td>\n",
       "      <td>1</td>\n",
       "      <td>0</td>\n",
       "    </tr>\n",
       "    <tr>\n",
       "      <th>4</th>\n",
       "      <td>5700</td>\n",
       "      <td>2018</td>\n",
       "      <td>45561.0</td>\n",
       "      <td>1</td>\n",
       "      <td>0</td>\n",
       "      <td>1</td>\n",
       "      <td>0</td>\n",
       "      <td>0</td>\n",
       "      <td>0</td>\n",
       "      <td>0</td>\n",
       "      <td>...</td>\n",
       "      <td>0</td>\n",
       "      <td>0</td>\n",
       "      <td>0</td>\n",
       "      <td>1</td>\n",
       "      <td>0</td>\n",
       "      <td>0</td>\n",
       "      <td>0</td>\n",
       "      <td>0</td>\n",
       "      <td>0</td>\n",
       "      <td>0</td>\n",
       "    </tr>\n",
       "  </tbody>\n",
       "</table>\n",
       "<p>5 rows × 26 columns</p>\n",
       "</div>"
      ],
      "text/plain": [
       "   price  year   mileage  AGE_IN_YEARS  chevrolet  dodge  gmc  jeep  nissan  \\\n",
       "0   2899  2011  190552.0             3          0      0    0     0       0   \n",
       "1   5350  2018   39590.0             2          0      1    0     0       0   \n",
       "2  25000  2014   64146.0             2          0      0    0     0       0   \n",
       "3  27700  2018    6654.0             3          1      0    0     0       0   \n",
       "4   5700  2018   45561.0             1          0      1    0     0       0   \n",
       "\n",
       "   salvage insurance   ...    Goa  MP  Maharashtra  UP  black  blue  gray  \\\n",
       "0                  0   ...      0   0            0   1      0     0     0   \n",
       "1                  0   ...      0   1            0   0      0     0     0   \n",
       "2                  0   ...      0   0            0   1      0     1     0   \n",
       "3                  0   ...      0   0            1   0      0     0     0   \n",
       "4                  0   ...      0   0            0   1      0     0     0   \n",
       "\n",
       "   no_color  red  silver  \n",
       "0         0    0       1  \n",
       "1         0    0       1  \n",
       "2         0    0       0  \n",
       "3         0    1       0  \n",
       "4         0    0       0  \n",
       "\n",
       "[5 rows x 26 columns]"
      ]
     },
     "execution_count": 6,
     "metadata": {},
     "output_type": "execute_result"
    }
   ],
   "source": [
    "# VIEWING THE DATA ONCE\n",
    "data.head()"
   ]
  },
  {
   "cell_type": "code",
   "execution_count": 7,
   "metadata": {},
   "outputs": [
    {
     "data": {
      "text/plain": [
       "Index(['price', 'year', 'mileage', 'AGE_IN_YEARS', 'chevrolet', 'dodge', 'gmc',\n",
       "       'jeep', 'nissan', 'salvage insurance', 'black', 'blue', 'gray',\n",
       "       'no_color', 'silver', 'white', 'Goa', 'MP', 'Maharashtra', 'UP',\n",
       "       'black', 'blue', 'gray', 'no_color', 'red', 'silver'],\n",
       "      dtype='object')"
      ]
     },
     "execution_count": 7,
     "metadata": {},
     "output_type": "execute_result"
    }
   ],
   "source": [
    "data.columns"
   ]
  },
  {
   "cell_type": "markdown",
   "metadata": {
    "colab_type": "text",
    "id": "-ZcVR3RC9jU4"
   },
   "source": [
    "WE USE THE train_test_split_function TO SPLIT THE DATA INTO TRAIN AND TEST <br>\n",
    "HERE WE IMPORT IT FROM SKLEARN"
   ]
  },
  {
   "cell_type": "code",
   "execution_count": 8,
   "metadata": {
    "colab": {},
    "colab_type": "code",
    "id": "di5Jh08_9jU4"
   },
   "outputs": [],
   "source": [
    "from sklearn.model_selection import train_test_split as tts"
   ]
  },
  {
   "cell_type": "markdown",
   "metadata": {
    "colab_type": "text",
    "id": "ll5Q2xCm9jU7"
   },
   "source": [
    "LET US LOOK AT THE PRICES DISTRIBUTION"
   ]
  },
  {
   "cell_type": "code",
   "execution_count": 9,
   "metadata": {
    "colab": {},
    "colab_type": "code",
    "id": "SZu32pba9jU7"
   },
   "outputs": [
    {
     "data": {
      "image/png": "[encoded data removed]",
      "text/plain": [
       "<Figure size 432x288 with 1 Axes>"
      ]
     },
     "metadata": {
      "needs_background": "light"
     },
     "output_type": "display_data"
    }
   ],
   "source": [
    "plt.hist(data['price']);"
   ]
  },
  {
   "cell_type": "markdown",
   "metadata": {
    "colab_type": "text",
    "id": "jn6ZMkZd9jU_"
   },
   "source": [
    "IT IS LEFT-SKEWED, WE HAVE LEARNT HOW TO HANDLE SKEWED DATA<br>\n",
    "We will either use log transform or sqrt transform"
   ]
  },
  {
   "cell_type": "code",
   "execution_count": 10,
   "metadata": {
    "colab": {},
    "colab_type": "code",
    "id": "nC13GB_f9jU_"
   },
   "outputs": [
    {
     "data": {
      "image/png": "[encoded data removed]",
      "text/plain": [
       "<Figure size 432x288 with 1 Axes>"
      ]
     },
     "metadata": {
      "needs_background": "light"
     },
     "output_type": "display_data"
    },
    {
     "data": {
      "image/png": "[encoded data removed]",
      "text/plain": [
       "<Figure size 432x288 with 1 Axes>"
      ]
     },
     "metadata": {
      "needs_background": "light"
     },
     "output_type": "display_data"
    }
   ],
   "source": [
    "#WE HAVE WRITTEN THE CODE FOR PLOTTING THE HISTOGRAM FOR THE LOG-TRANSFORMED PRICE COLUMN AND SQRT TRANSFORMED SQRT COLUMN.\n",
    "plt.hist(np.sqrt(data['price']));\n",
    "plt.title('SQRT TRANSFORM');\n",
    "plt.show()\n",
    "plt.hist(np.log(data['price']));\n",
    "plt.title('LOG TRANSFORM');\n",
    "plt.show()"
   ]
  },
  {
   "cell_type": "markdown",
   "metadata": {
    "colab_type": "text",
    "id": "CIxuDmN89jVC"
   },
   "source": [
    "CLEARLY SQRT TRANSFORM IS BETTER"
   ]
  },
  {
   "cell_type": "code",
   "execution_count": 11,
   "metadata": {
    "colab": {},
    "colab_type": "code",
    "id": "ZEDTdMPP9jVC"
   },
   "outputs": [],
   "source": [
    "#WE CONVERT PRICES TO THEIR SQRT AND ROUND OFF DECIMALS TO TWO\n",
    "data['price'] = round(np.sqrt(data['price']),2)"
   ]
  },
  {
   "cell_type": "code",
   "execution_count": 12,
   "metadata": {
    "colab": {},
    "colab_type": "code",
    "id": "DsRrd_c79jVG"
   },
   "outputs": [],
   "source": [
    "# HERE WE SPLIT DATA INTO TRAIN TEST SPLIT\n",
    "X_train,X_test,y_train,y_test = tts(data.drop('price',axis = 1),data['price'],test_size = 0.2,random_state = 1)"
   ]
  },
  {
   "cell_type": "code",
   "execution_count": 13,
   "metadata": {
    "colab": {},
    "colab_type": "code",
    "id": "66Pr1G_89jVI"
   },
   "outputs": [
    {
     "name": "stdout",
     "output_type": "stream",
     "text": [
      "(1722, 25)\n",
      "(431, 25)\n",
      "(1722,)\n",
      "(431,)\n",
      "\n",
      "Expected shapes\n",
      "(1722, 25)\n",
      "(431, 25)\n",
      "(1722,)\n",
      "(431,)\n",
      "\n",
      "Verify if they are matching\n"
     ]
    }
   ],
   "source": [
    "#LET US PRINT THE SHAPES\n",
    "print(X_train.shape)\n",
    "print(X_test.shape)\n",
    "print(y_train.shape)\n",
    "print(y_test.shape)\n",
    "\n",
    "print('\\nExpected shapes')\n",
    "print((1722, 25))\n",
    "print((431, 25))\n",
    "print((1722,))\n",
    "print((431,))\n",
    "print('\\nVerify if they are matching')"
   ]
  },
  {
   "cell_type": "markdown",
   "metadata": {
    "colab_type": "text",
    "id": "MTbjksBn9jVK"
   },
   "source": [
    "NOW <br>\n",
    "LET US APPLY LINEAR REGRESSION ON THE DATA, THIS TIME WE WILL IMPORT IT FROM SKLEARN <br>\n"
   ]
  },
  {
   "cell_type": "code",
   "execution_count": 14,
   "metadata": {
    "colab": {},
    "colab_type": "code",
    "id": "Qza5_BMn9jVK"
   },
   "outputs": [
    {
     "name": "stdout",
     "output_type": "stream",
     "text": [
      "Linear Regression Training R2 score is 0.3577935806672854\n",
      "Linear Regression Testing R2 score is 0.3340597013410245\n",
      "Linear Regression Training mean_square_error is 90997459.24038003\n",
      "Linear Regression Testing mean_square_error is 93998879.06677867\n",
      "Linear Regression Training mean_absolute_error is 6864.980505017769\n",
      "Linear Regression Testing mean_absolute_error is 6926.987292556893\n",
      "\n",
      "\n",
      "The correct values are :\n",
      "Linear Regression Training R2 score is 0.3577935806672855\n",
      "Linear Regression Testing R2 score is 0.33405970134102436\n",
      "Linear Regression Training mean_square_error is 90997459.24038002\n",
      "Linear Regression Testing mean_square_error is 93998879.06677869\n",
      "Linear Regression Training mean_absolute_error is 6864.980505017769\n",
      "Linear Regression Testing mean_absolute_error is 6926.987292556893\n",
      "\n",
      "Please verify if you have got the same values\n"
     ]
    }
   ],
   "source": [
    "from sklearn.linear_model import LinearRegression\n",
    "from sklearn.metrics import r2_score,mean_squared_error,mean_absolute_error\n",
    "# INITIALIZE LINEAR REGRESSION WITH ALL DEFAULT PARAMETERS\n",
    "Linreg = LinearRegression()\n",
    "Linreg.fit(X_train,y_train)\n",
    "\n",
    "# FIND TEST ERROR AND TRAIN ERROR WITH THE METRICS IMPORTED ABOVE\n",
    "# NOTE THAT WE HAVE SQUARED BACK THE VALUES AS WE ARE PREDICTING PRICES NOT THEIR SQUARE ROOT \n",
    "print(\"Linear Regression Training R2 score is \" + str(r2_score(np.square(y_train),np.square(Linreg.predict(X_train)))))\n",
    "print(\"Linear Regression Testing R2 score is \" + str(r2_score(np.square(y_test),np.square(Linreg.predict(X_test)))))\n",
    "\n",
    "# WRITE CODE FOR MEAN SQUARE ERROR AND MEAN\n",
    "\n",
    "# Start code\n",
    "print('Linear Regression Training mean_square_error is ' + str(mean_squared_error(np.square(y_train),np.square(Linreg.predict(X_train)))))\n",
    "print('Linear Regression Testing mean_square_error is ' + str(mean_squared_error(np.square(y_test),np.square(Linreg.predict(X_test)))))\n",
    "print('Linear Regression Training mean_absolute_error is ' + str(mean_absolute_error(np.square(y_train),np.square(Linreg.predict(X_train)))))\n",
    "print('Linear Regression Testing mean_absolute_error is ' + str(mean_absolute_error(np.square(y_test),np.square(Linreg.predict(X_test)))))\n",
    "\n",
    "# End code\n",
    "\n",
    "print(\"\\n\")\n",
    "print(\"The correct values are :\")\n",
    "\n",
    "\n",
    "print('Linear Regression Training R2 score is 0.3577935806672855')\n",
    "print('Linear Regression Testing R2 score is 0.33405970134102436')\n",
    "print('Linear Regression Training mean_square_error is 90997459.24038002')\n",
    "print('Linear Regression Testing mean_square_error is 93998879.06677869')\n",
    "print('Linear Regression Training mean_absolute_error is 6864.980505017769')\n",
    "print('Linear Regression Testing mean_absolute_error is 6926.987292556893')\n",
    "\n",
    "print(\"\\nPlease verify if you have got the same values\")"
   ]
  },
  {
   "cell_type": "markdown",
   "metadata": {
    "colab_type": "text",
    "id": "Z3W4-0--9jVN"
   },
   "source": [
    "<br>\n",
    "NOW LET US WRITE THE SKLEARN IMPLEMENTATION OF DECISION TREE IN REGRESSION <br>"
   ]
  },
  {
   "cell_type": "code",
   "execution_count": 15,
   "metadata": {
    "colab": {},
    "colab_type": "code",
    "id": "f43pHl3y9jVO"
   },
   "outputs": [
    {
     "name": "stdout",
     "output_type": "stream",
     "text": [
      "Decision Tree Training R2 score is 0.422869230755335\n",
      "Decision Tree Testing R2 score is 0.36145560633416207\n",
      "Decision Tree Training mean_square_error is 81776562.90835412\n",
      "Decision Tree Testing mean_square_error is 90131889.2396716\n",
      "Decision Tree Training mean_absolute_error is 6266.244817595775\n",
      "Decision Tree Testing mean_absolute_error is 6846.025816839579\n"
     ]
    }
   ],
   "source": [
    "from sklearn.tree import DecisionTreeRegressor\n",
    "\n",
    "# INITIALIZE THE DECISION TREE WITH criterion as mse, max depth as 7 and Random State as 1\n",
    "# USE THE FIT METHOD TO FIND THE R2_SCORE, MSE, MAE For training as well as testing data\n",
    "\n",
    "\n",
    "# START CODE\n",
    "dt_model = DecisionTreeRegressor(criterion='mse', max_depth=7, random_state=1)\n",
    "dt_model.fit(X_train,y_train)\n",
    "\n",
    "\n",
    "print(\"Decision Tree Training R2 score is \" + str(r2_score(np.square(y_train),np.square(dt_model.predict(X_train)))))\n",
    "print(\"Decision Tree Testing R2 score is \" + str(r2_score(np.square(y_test),np.square(dt_model.predict(X_test)))))\n",
    "print('Decision Tree Training mean_square_error is ' + str(mean_squared_error(np.square(y_train),np.square(dt_model.predict(X_train)))))\n",
    "print('Decision Tree Testing mean_square_error is ' + str(mean_squared_error(np.square(y_test),np.square(dt_model.predict(X_test)))))\n",
    "print('Decision Tree Training mean_absolute_error is ' + str(mean_absolute_error(np.square(y_train),np.square(dt_model.predict(X_train)))))\n",
    "print('Decision Tree Testing mean_absolute_error is ' + str(mean_absolute_error(np.square(y_test),np.square(dt_model.predict(X_test)))))\n",
    "\n",
    "# END CODE"
   ]
  },
  {
   "cell_type": "markdown",
   "metadata": {
    "colab_type": "text",
    "id": "TvQ6cQkC9jVQ"
   },
   "source": [
    "<br>\n",
    "NOW LET US WRITE THE SKLEARN IMPLEMENTATION OF SVM IN REGRESSION <br>"
   ]
  },
  {
   "cell_type": "code",
   "execution_count": 16,
   "metadata": {
    "colab": {},
    "colab_type": "code",
    "id": "wTlrmqiG9jVQ"
   },
   "outputs": [
    {
     "name": "stdout",
     "output_type": "stream",
     "text": [
      "SVM Training R2 score is -21.378337117720697\n",
      "SVM Testing R2 score is 0.0879391173112708\n",
      "SVM Training mean_square_error is 3170899197.5713468\n",
      "SVM Testing mean_square_error is 128739319.10418974\n",
      "SVM Training mean_absolute_error is 9831.444528754593\n",
      "SVM Testing mean_absolute_error is 8348.703212635415\n"
     ]
    }
   ],
   "source": [
    "from sklearn.svm import SVR\n",
    "# INITIALIZE THE SVM WITH kernel as 'poly', maximum number of iterations as 3000, degree as 2, C(regularization parameter) as 0.1 \n",
    "# FIT THE DATA using FIT METHOD\n",
    "# Calculate the R2_score, mse, mae for training data as well as testing data.\n",
    "\n",
    "# START CODE\n",
    "svm_model = SVR(kernel='poly', degree=2, C=0.1, max_iter=3000)\n",
    "svm_model.fit(X_train,y_train)\n",
    "\n",
    "print(\"SVM Training R2 score is \" + str(r2_score(np.square(y_train),np.square(svm_model.predict(X_train)))))\n",
    "print(\"SVM Testing R2 score is \" + str(r2_score(np.square(y_test),np.square(svm_model.predict(X_test)))))\n",
    "print('SVM Training mean_square_error is ' + str(mean_squared_error(np.square(y_train),np.square(svm_model.predict(X_train)))))\n",
    "print('SVM Testing mean_square_error is ' + str(mean_squared_error(np.square(y_test),np.square(svm_model.predict(X_test)))))\n",
    "print('SVM Training mean_absolute_error is ' + str(mean_absolute_error(np.square(y_train),np.square(svm_model.predict(X_train)))))\n",
    "print('SVM Testing mean_absolute_error is ' + str(mean_absolute_error(np.square(y_test),np.square(svm_model.predict(X_test)))))\n",
    "\n",
    "# END CODE"
   ]
  },
  {
   "cell_type": "markdown",
   "metadata": {
    "colab_type": "text",
    "id": "GByCRcmJ9jVT"
   },
   "source": [
    "YOU MIGHT SEE WORSE VALUES WHEN COMPARED TO LINEAR REGRESSION OR DECISION TREE AS THE DATA IS UNSCALED AND SVM REQUIRES MUCH MORE PREPROCESSING AND TUNING...BUT WE WON'T DO THAT HERE AS OUR AIM WAS JUST TO IMPLEMENT THE MODELS"
   ]
  },
  {
   "cell_type": "markdown",
   "metadata": {
    "colab_type": "text",
    "id": "BEE9QB4O9jVT"
   },
   "source": [
    "<br>\n",
    "NOW LET US WRITE THE SKLEARN IMPLEMENTATION OF Random Forest IN REGRESSION <br>"
   ]
  },
  {
   "cell_type": "code",
   "execution_count": 17,
   "metadata": {
    "colab": {},
    "colab_type": "code",
    "id": "uqrGh5AR9jVU"
   },
   "outputs": [
    {
     "name": "stdout",
     "output_type": "stream",
     "text": [
      "Random Forest Regressor Training R2 score is 0.5524364393379151\n",
      "Random Forest Regressor Testing R2 score is 0.3997413290406361\n",
      "Random Forest Regressor Training mean_square_error is 63417533.12143005\n",
      "Random Forest Regressor Testing mean_square_error is 84727778.65210524\n",
      "Random Forest Regressor Training mean_absolute_error is 5528.669046457424\n",
      "Random Forest Regressor Testing mean_absolute_error is 6695.668840563838\n"
     ]
    }
   ],
   "source": [
    "from sklearn.ensemble import RandomForestRegressor\n",
    "# INITIALIZE THE Random Forest Regressor WITH no: of trees as 200, max_depth as 9, n_jobs as -1(read documentation for more details) and random state as 1 \n",
    "\n",
    "# FIT THE DATA using FIT METHOD\n",
    "# Calculate the R2_score, mse, mae for training data as well as testing data.\n",
    "\n",
    "# START CODE\n",
    "\n",
    "rfr_model = RandomForestRegressor(n_estimators=200, max_depth=9, n_jobs= - 1, random_state=1)\n",
    "rfr_model.fit(X_train,y_train)\n",
    "\n",
    "print(\"Random Forest Regressor Training R2 score is \" + str(r2_score(np.square(y_train),np.square(rfr_model.predict(X_train)))))\n",
    "print(\"Random Forest Regressor Testing R2 score is \" + str(r2_score(np.square(y_test),np.square(rfr_model.predict(X_test)))))\n",
    "print('Random Forest Regressor Training mean_square_error is ' + str(mean_squared_error(np.square(y_train),np.square(rfr_model.predict(X_train)))))\n",
    "print('Random Forest Regressor Testing mean_square_error is ' + str(mean_squared_error(np.square(y_test),np.square(rfr_model.predict(X_test)))))\n",
    "print('Random Forest Regressor Training mean_absolute_error is ' + str(mean_absolute_error(np.square(y_train),np.square(rfr_model.predict(X_train)))))\n",
    "print('Random Forest Regressor Testing mean_absolute_error is ' + str(mean_absolute_error(np.square(y_test),np.square(rfr_model.predict(X_test)))))\n",
    "\n",
    "# END CODE"
   ]
  },
  {
   "cell_type": "markdown",
   "metadata": {
    "colab_type": "text",
    "id": "sUEvPws29jVW"
   },
   "source": [
    "NOW FOR CLASSIFICATION MODELS WE NEED TO CONVERT THE TARGET VARIABLE INTO DIFFERENT CLASSES"
   ]
  },
  {
   "cell_type": "code",
   "execution_count": 18,
   "metadata": {
    "colab": {},
    "colab_type": "code",
    "id": "5EwOs0dv9jVX"
   },
   "outputs": [
    {
     "data": {
      "text/plain": [
       "count     2153.000000\n",
       "mean     19298.257905\n",
       "std      11904.254199\n",
       "min         25.000000\n",
       "25%      10799.366400\n",
       "50%      17300.140900\n",
       "75%      26001.562500\n",
       "max      74000.320900\n",
       "Name: price, dtype: float64"
      ]
     },
     "execution_count": 18,
     "metadata": {},
     "output_type": "execute_result"
    }
   ],
   "source": [
    "# WE FIND THE MEDIAN\n",
    "np.square(data['price']).describe()"
   ]
  },
  {
   "cell_type": "markdown",
   "metadata": {
    "colab_type": "text",
    "id": "SxdlNAd49jVa"
   },
   "source": [
    "WE WILL DO BINARY CLASSIFICATION AND DIVIDE THE DATA EQUALLY(ALMOST) INTO 1's AND 0's <br>\n",
    "WE HAVE CHOSEN THRESHOLD AT price = 20000"
   ]
  },
  {
   "cell_type": "code",
   "execution_count": 19,
   "metadata": {
    "colab": {},
    "colab_type": "code",
    "id": "waGj0igv9jVa"
   },
   "outputs": [],
   "source": [
    "data.loc[np.square(data['price']) < 20000,'price'] = 0\n",
    "data.loc[np.square(data['price']) >= 20000,'price'] = 1"
   ]
  },
  {
   "cell_type": "code",
   "execution_count": 20,
   "metadata": {
    "colab": {},
    "colab_type": "code",
    "id": "G4pCJ7pw9jVc"
   },
   "outputs": [
    {
     "data": {
      "text/html": [
       "<div>\n",
       "<style scoped>\n",
       "    .dataframe tbody tr th:only-of-type {\n",
       "        vertical-align: middle;\n",
       "    }\n",
       "\n",
       "    .dataframe tbody tr th {\n",
       "        vertical-align: top;\n",
       "    }\n",
       "\n",
       "    .dataframe thead th {\n",
       "        text-align: right;\n",
       "    }\n",
       "</style>\n",
       "<table border=\"1\" class=\"dataframe\">\n",
       "  <thead>\n",
       "    <tr style=\"text-align: right;\">\n",
       "      <th></th>\n",
       "      <th>price</th>\n",
       "      <th>year</th>\n",
       "      <th>mileage</th>\n",
       "      <th>AGE_IN_YEARS</th>\n",
       "      <th>chevrolet</th>\n",
       "      <th>dodge</th>\n",
       "      <th>gmc</th>\n",
       "      <th>jeep</th>\n",
       "      <th>nissan</th>\n",
       "      <th>salvage insurance</th>\n",
       "      <th>...</th>\n",
       "      <th>Goa</th>\n",
       "      <th>MP</th>\n",
       "      <th>Maharashtra</th>\n",
       "      <th>UP</th>\n",
       "      <th>black</th>\n",
       "      <th>blue</th>\n",
       "      <th>gray</th>\n",
       "      <th>no_color</th>\n",
       "      <th>red</th>\n",
       "      <th>silver</th>\n",
       "    </tr>\n",
       "  </thead>\n",
       "  <tbody>\n",
       "    <tr>\n",
       "      <th>0</th>\n",
       "      <td>0.0</td>\n",
       "      <td>2011</td>\n",
       "      <td>190552.0</td>\n",
       "      <td>3</td>\n",
       "      <td>0</td>\n",
       "      <td>0</td>\n",
       "      <td>0</td>\n",
       "      <td>0</td>\n",
       "      <td>0</td>\n",
       "      <td>0</td>\n",
       "      <td>...</td>\n",
       "      <td>0</td>\n",
       "      <td>0</td>\n",
       "      <td>0</td>\n",
       "      <td>1</td>\n",
       "      <td>0</td>\n",
       "      <td>0</td>\n",
       "      <td>0</td>\n",
       "      <td>0</td>\n",
       "      <td>0</td>\n",
       "      <td>1</td>\n",
       "    </tr>\n",
       "    <tr>\n",
       "      <th>1</th>\n",
       "      <td>0.0</td>\n",
       "      <td>2018</td>\n",
       "      <td>39590.0</td>\n",
       "      <td>2</td>\n",
       "      <td>0</td>\n",
       "      <td>1</td>\n",
       "      <td>0</td>\n",
       "      <td>0</td>\n",
       "      <td>0</td>\n",
       "      <td>0</td>\n",
       "      <td>...</td>\n",
       "      <td>0</td>\n",
       "      <td>1</td>\n",
       "      <td>0</td>\n",
       "      <td>0</td>\n",
       "      <td>0</td>\n",
       "      <td>0</td>\n",
       "      <td>0</td>\n",
       "      <td>0</td>\n",
       "      <td>0</td>\n",
       "      <td>1</td>\n",
       "    </tr>\n",
       "    <tr>\n",
       "      <th>2</th>\n",
       "      <td>1.0</td>\n",
       "      <td>2014</td>\n",
       "      <td>64146.0</td>\n",
       "      <td>2</td>\n",
       "      <td>0</td>\n",
       "      <td>0</td>\n",
       "      <td>0</td>\n",
       "      <td>0</td>\n",
       "      <td>0</td>\n",
       "      <td>0</td>\n",
       "      <td>...</td>\n",
       "      <td>0</td>\n",
       "      <td>0</td>\n",
       "      <td>0</td>\n",
       "      <td>1</td>\n",
       "      <td>0</td>\n",
       "      <td>1</td>\n",
       "      <td>0</td>\n",
       "      <td>0</td>\n",
       "      <td>0</td>\n",
       "      <td>0</td>\n",
       "    </tr>\n",
       "    <tr>\n",
       "      <th>3</th>\n",
       "      <td>1.0</td>\n",
       "      <td>2018</td>\n",
       "      <td>6654.0</td>\n",
       "      <td>3</td>\n",
       "      <td>1</td>\n",
       "      <td>0</td>\n",
       "      <td>0</td>\n",
       "      <td>0</td>\n",
       "      <td>0</td>\n",
       "      <td>0</td>\n",
       "      <td>...</td>\n",
       "      <td>0</td>\n",
       "      <td>0</td>\n",
       "      <td>1</td>\n",
       "      <td>0</td>\n",
       "      <td>0</td>\n",
       "      <td>0</td>\n",
       "      <td>0</td>\n",
       "      <td>0</td>\n",
       "      <td>1</td>\n",
       "      <td>0</td>\n",
       "    </tr>\n",
       "    <tr>\n",
       "      <th>4</th>\n",
       "      <td>0.0</td>\n",
       "      <td>2018</td>\n",
       "      <td>45561.0</td>\n",
       "      <td>1</td>\n",
       "      <td>0</td>\n",
       "      <td>1</td>\n",
       "      <td>0</td>\n",
       "      <td>0</td>\n",
       "      <td>0</td>\n",
       "      <td>0</td>\n",
       "      <td>...</td>\n",
       "      <td>0</td>\n",
       "      <td>0</td>\n",
       "      <td>0</td>\n",
       "      <td>1</td>\n",
       "      <td>0</td>\n",
       "      <td>0</td>\n",
       "      <td>0</td>\n",
       "      <td>0</td>\n",
       "      <td>0</td>\n",
       "      <td>0</td>\n",
       "    </tr>\n",
       "  </tbody>\n",
       "</table>\n",
       "<p>5 rows × 26 columns</p>\n",
       "</div>"
      ],
      "text/plain": [
       "   price  year   mileage  AGE_IN_YEARS  chevrolet  dodge  gmc  jeep  nissan  \\\n",
       "0    0.0  2011  190552.0             3          0      0    0     0       0   \n",
       "1    0.0  2018   39590.0             2          0      1    0     0       0   \n",
       "2    1.0  2014   64146.0             2          0      0    0     0       0   \n",
       "3    1.0  2018    6654.0             3          1      0    0     0       0   \n",
       "4    0.0  2018   45561.0             1          0      1    0     0       0   \n",
       "\n",
       "   salvage insurance   ...    Goa  MP  Maharashtra  UP  black  blue  gray  \\\n",
       "0                  0   ...      0   0            0   1      0     0     0   \n",
       "1                  0   ...      0   1            0   0      0     0     0   \n",
       "2                  0   ...      0   0            0   1      0     1     0   \n",
       "3                  0   ...      0   0            1   0      0     0     0   \n",
       "4                  0   ...      0   0            0   1      0     0     0   \n",
       "\n",
       "   no_color  red  silver  \n",
       "0         0    0       1  \n",
       "1         0    0       1  \n",
       "2         0    0       0  \n",
       "3         0    1       0  \n",
       "4         0    0       0  \n",
       "\n",
       "[5 rows x 26 columns]"
      ]
     },
     "execution_count": 20,
     "metadata": {},
     "output_type": "execute_result"
    }
   ],
   "source": [
    "data.head()"
   ]
  },
  {
   "cell_type": "code",
   "execution_count": 36,
   "metadata": {
    "colab": {},
    "colab_type": "code",
    "id": "no82fZ4Y9jVf"
   },
   "outputs": [
    {
     "data": {
      "text/plain": [
       "0.0    1013\n",
       "1.0     709\n",
       "Name: price, dtype: int64"
      ]
     },
     "execution_count": 36,
     "metadata": {},
     "output_type": "execute_result"
    }
   ],
   "source": [
    "X_train,X_test,y_train,y_test = tts(data.drop('price',axis = 1),data['price'],test_size = 0.2,random_state = 1)\n",
    "y_train.value_counts()"
   ]
  },
  {
   "cell_type": "code",
   "execution_count": 22,
   "metadata": {
    "colab": {},
    "colab_type": "code",
    "id": "CWKZZWms9jVh"
   },
   "outputs": [],
   "source": [
    "from sklearn.linear_model import LogisticRegression\n",
    "from sklearn.svm import SVC\n",
    "from sklearn.tree import DecisionTreeClassifier\n",
    "from sklearn.ensemble import RandomForestClassifier\n",
    "from sklearn.metrics import confusion_matrix\n",
    "import matplotlib.pyplot as plt\n",
    "import seaborn as sn\n",
    "%matplotlib inline"
   ]
  },
  {
   "cell_type": "code",
   "execution_count": 44,
   "metadata": {
    "colab": {},
    "colab_type": "code",
    "id": "mWkYGoJZ9jVj"
   },
   "outputs": [
    {
     "name": "stdout",
     "output_type": "stream",
     "text": [
      "Logistic Regression Training Confusion matrix is \n",
      "[[782 231]\n",
      " [248 461]]\n",
      "True Positive Rate: \n",
      "0.6502115655853314\n",
      "False Positive Rate: \n",
      "0.228035538005923\n",
      "Sensitivity: \n",
      "0.6502115655853314\n",
      "Specificity: \n",
      "0.771964461994077\n",
      "Accuracy: \n",
      "0.721835075493612\n",
      "Logistic Regression Testing Confusion matrix is \n",
      "[[188  55]\n",
      " [ 65 123]]\n",
      "True Positive Rate: \n",
      "0.6542553191489362\n",
      "False Positive Rate: \n",
      "0.22633744855967078\n",
      "Sensitivity: \n",
      "0.6542553191489362\n",
      "Specificity: \n",
      "0.7736625514403292\n",
      "Accuracy: \n",
      "0.7215777262180975\n"
     ]
    },
    {
     "data": {
      "image/png": "[encoded data removed]",
      "text/plain": [
       "<Figure size 504x288 with 2 Axes>"
      ]
     },
     "metadata": {},
     "output_type": "display_data"
    },
    {
     "data": {
      "image/png": "[encoded data removed]",
      "text/plain": [
       "<Figure size 504x288 with 2 Axes>"
      ]
     },
     "metadata": {},
     "output_type": "display_data"
    }
   ],
   "source": [
    "# INITIALIZE Logistic Regression BY TAKING solver as 'lbfgs', max_iter as 2000, C as 0.5 and penalty as 'l2' and random_state as 1 \n",
    "# FIT Logistic Regression ON TRAINING DATA\n",
    "# WRITE CODE HERE AND FIND THE TPR, FPR, SENSTIVITY, SPECIFICITY, ACCURACY FOR LOGISTIC REGRESSION\n",
    "# USE THE IMPORTED CONFUSION MATRIX\n",
    "\n",
    "# START CODE\n",
    "\n",
    "lr_model = LogisticRegression(penalty='l2', C=0.5,random_state=1, solver='lbfgs', max_iter=2000)\n",
    "lr_model.fit(X_train,y_train)\n",
    "\n",
    "y_pred_training_lr = lr_model.predict(X_train)\n",
    "y_pred_lr = lr_model.predict(X_test)\n",
    "\n",
    "#Confusion Matrix - Training\n",
    "print(\"Logistic Regression Training Confusion matrix is \")\n",
    "lr_cm_data = confusion_matrix(y_train,y_pred_training_lr)\n",
    "lr_df_cm = pd.DataFrame(lr_cm_data, columns=np.unique(y_train), index = np.unique(y_train))\n",
    "lr_df_cm.index.name = 'Actual'\n",
    "lr_df_cm.columns.name = 'Predicted'\n",
    "plt.figure(figsize = (7,4))\n",
    "sn.set(font_scale=1.4)\n",
    "sn.heatmap(lr_df_cm, cmap=\"Blues\", annot=True,annot_kws={\"size\": 16})\n",
    "print(lr_cm_data)\n",
    "\n",
    "#TPR\n",
    "print(\"True Positive Rate: \")\n",
    "lr_tpr = lr_cm_data[1][1] / (lr_cm_data[1][1] + lr_cm_data[1][0])\n",
    "print(lr_tpr)\n",
    "\n",
    "#FPR\n",
    "print(\"False Positive Rate: \")\n",
    "lr_fpr = lr_cm_data[0][1] / (lr_cm_data[0][1] + lr_cm_data[0][0])\n",
    "print(lr_fpr)\n",
    "\n",
    "#Sensitivity\n",
    "print(\"Sensitivity: \")\n",
    "lr_sensi = lr_tpr\n",
    "print(lr_sensi)\n",
    "\n",
    "#Specificity\n",
    "print(\"Specificity: \")\n",
    "lr_speci = lr_cm_data[0][0] / (lr_cm_data[0][1] + lr_cm_data[0][0])\n",
    "print(lr_speci) \n",
    "\n",
    "print(\"Accuracy: \")\n",
    "lr_accuracy = (lr_cm_data[0][0] + lr_cm_data[1][1]) / (lr_cm_data[0][0] + lr_cm_data[0][1] + lr_cm_data[1][0] + lr_cm_data[1][1])\n",
    "print(lr_accuracy)\n",
    "\n",
    "\n",
    "#Confusion Matrix - Testing\n",
    "print(\"Logistic Regression Testing Confusion matrix is \")\n",
    "lr_cm_data = confusion_matrix(y_test,y_pred_lr)\n",
    "lr_df_cm = pd.DataFrame(lr_cm_data, columns=np.unique(y_test), index = np.unique(y_test))\n",
    "lr_df_cm.index.name = 'Actual'\n",
    "lr_df_cm.columns.name = 'Predicted'\n",
    "plt.figure(figsize = (7,4))\n",
    "sn.set(font_scale=1.4)\n",
    "sn.heatmap(lr_df_cm, cmap=\"Blues\", annot=True,annot_kws={\"size\": 16})\n",
    "print(lr_cm_data)\n",
    "\n",
    "#TPR\n",
    "print(\"True Positive Rate: \")\n",
    "lr_tpr = lr_cm_data[1][1] / (lr_cm_data[1][1] + lr_cm_data[1][0])\n",
    "print(lr_tpr)\n",
    "\n",
    "#FPR\n",
    "print(\"False Positive Rate: \")\n",
    "lr_fpr = lr_cm_data[0][1] / (lr_cm_data[0][1] + lr_cm_data[0][0])\n",
    "print(lr_fpr)\n",
    "\n",
    "#Sensitivity\n",
    "print(\"Sensitivity: \")\n",
    "lr_sensi = lr_tpr\n",
    "print(lr_sensi)\n",
    "\n",
    "#Specificity\n",
    "print(\"Specificity: \")\n",
    "lr_speci = lr_cm_data[0][0] / (lr_cm_data[0][1] + lr_cm_data[0][0])\n",
    "print(lr_speci) \n",
    "\n",
    "print(\"Accuracy: \")\n",
    "lr_accuracy = (lr_cm_data[0][0] + lr_cm_data[1][1]) / (lr_cm_data[0][0] + lr_cm_data[0][1] + lr_cm_data[1][0] + lr_cm_data[1][1])\n",
    "print(lr_accuracy)\n",
    "# END CODE"
   ]
  },
  {
   "cell_type": "code",
   "execution_count": 45,
   "metadata": {
    "colab": {},
    "colab_type": "code",
    "id": "wGv7G_Q29jVl"
   },
   "outputs": [
    {
     "name": "stdout",
     "output_type": "stream",
     "text": [
      "SVM Training Confusion matrix is \n",
      "[[862 151]\n",
      " [350 359]]\n",
      "True Positive Rate: \n",
      "0.5063469675599436\n",
      "False Positive Rate: \n",
      "0.14906219151036526\n",
      "Sensitivity: \n",
      "0.5063469675599436\n",
      "Specificity: \n",
      "0.8509378084896347\n",
      "Accuracy: \n",
      "0.7090592334494773\n",
      "SVM Testing Confusion matrix is \n",
      "[[209  34]\n",
      " [ 87 101]]\n",
      "True Positive Rate: \n",
      "0.5372340425531915\n",
      "False Positive Rate: \n",
      "0.13991769547325103\n",
      "Sensitivity: \n",
      "0.5372340425531915\n",
      "Specificity: \n",
      "0.8600823045267489\n",
      "Accuracy: \n",
      "0.7192575406032483\n"
     ]
    },
    {
     "data": {
      "image/png": "[encoded data removed]",
      "text/plain": [
       "<Figure size 504x288 with 2 Axes>"
      ]
     },
     "metadata": {},
     "output_type": "display_data"
    },
    {
     "data": {
      "image/png": "[encoded data removed]",
      "text/plain": [
       "<Figure size 504x288 with 2 Axes>"
      ]
     },
     "metadata": {},
     "output_type": "display_data"
    }
   ],
   "source": [
    "# INITIALIZE SVM BY TAKING kernal as 'rbf', max_iter as 1000 and random_state as 1 and gamma as scale\n",
    "# FIT SVM ON TRAINING DATA\n",
    "# WRITE CODE HERE AND FIND THE TPR, FPR, SENSTIVITY, SPECIFICITY, ACCURACY FOR SVM\n",
    "# USE THE IMPORTED CONFUSION MATRIX\n",
    "\n",
    "# START CODE\n",
    "\n",
    "svm_svc_model = SVC(kernel='rbf', gamma='scale', max_iter=1000, random_state=1)\n",
    "svm_svc_model.fit(X_train,y_train)\n",
    "\n",
    "y_pred_svm_svc_training = svm_svc_model.predict(X_train)\n",
    "y_pred_svm_svc = svm_svc_model.predict(X_test)\n",
    "\n",
    "#Confusion Matrix - Training\n",
    "print(\"SVM Training Confusion matrix is \")\n",
    "svm_svc_cm_data = confusion_matrix(y_train,y_pred_svm_svc_training)\n",
    "print(svm_svc_cm_data)\n",
    "svm_svc_df_cm = pd.DataFrame(svm_svc_cm_data, columns=np.unique(y_train), index = np.unique(y_train))\n",
    "svm_svc_df_cm.index.name = 'Actual'\n",
    "svm_svc_df_cm.columns.name = 'Predicted'\n",
    "plt.figure(figsize = (7,4))\n",
    "sn.set(font_scale=1.4)\n",
    "sn.heatmap(svm_svc_cm_data, cmap=\"Blues\", annot=True,annot_kws={\"size\": 16})\n",
    "\n",
    "#TPR\n",
    "print(\"True Positive Rate: \")\n",
    "svm_svc_tpr = svm_svc_cm_data[1][1] / (svm_svc_cm_data[1][1] + svm_svc_cm_data[1][0])\n",
    "print(svm_svc_tpr)\n",
    "#FPR\n",
    "print(\"False Positive Rate: \")\n",
    "svm_svc_fpr = svm_svc_cm_data[0][1] / (svm_svc_cm_data[0][1] + svm_svc_cm_data[0][0])\n",
    "print(svm_svc_fpr)\n",
    "\n",
    "#Sensitivity\n",
    "print(\"Sensitivity: \")\n",
    "svm_svc_sensi = svm_svc_tpr\n",
    "print(svm_svc_sensi)\n",
    "\n",
    "#Specificity\n",
    "print(\"Specificity: \")\n",
    "svm_svc_speci = svm_svc_cm_data[0][0] / (svm_svc_cm_data[0][1] + svm_svc_cm_data[0][0])\n",
    "print(svm_svc_speci) \n",
    "\n",
    "print(\"Accuracy: \")\n",
    "svm_svc_accuracy = (svm_svc_cm_data[0][0] + svm_svc_cm_data[1][1]) / (svm_svc_cm_data[0][0] + svm_svc_cm_data[0][1] + \n",
    "                                                          svm_svc_cm_data[1][0] + svm_svc_cm_data[1][1])\n",
    "print(svm_svc_accuracy)\n",
    "\n",
    "#Confusion Matrix - Testing \n",
    "print(\"SVM Testing Confusion matrix is \")\n",
    "svm_svc_cm_data = confusion_matrix(np.square(y_test),np.square(y_pred_svm_svc))\n",
    "svm_svc_df_cm = pd.DataFrame(svm_svc_cm_data, columns=np.unique(y_test), index = np.unique(y_test))\n",
    "svm_svc_df_cm.index.name = 'Actual'\n",
    "svm_svc_df_cm.columns.name = 'Predicted'\n",
    "plt.figure(figsize = (7,4))\n",
    "sn.set(font_scale=1.4)\n",
    "sn.heatmap(svm_svc_cm_data, cmap=\"Blues\", annot=True,annot_kws={\"size\": 16})\n",
    "print(svm_svc_cm_data)\n",
    "\n",
    "#TPR\n",
    "print(\"True Positive Rate: \")\n",
    "svm_svc_tpr = svm_svc_cm_data[1][1] / (svm_svc_cm_data[1][1] + svm_svc_cm_data[1][0])\n",
    "print(svm_svc_tpr)\n",
    "\n",
    "#FPR\n",
    "print(\"False Positive Rate: \")\n",
    "svm_svc_fpr = svm_svc_cm_data[0][1] / (svm_svc_cm_data[0][1] + svm_svc_cm_data[0][0])\n",
    "print(svm_svc_fpr)\n",
    "\n",
    "#Sensitivity\n",
    "print(\"Sensitivity: \")\n",
    "svm_svc_sensi = svm_svc_tpr\n",
    "print(svm_svc_sensi)\n",
    "\n",
    "#Specificity\n",
    "print(\"Specificity: \")\n",
    "svm_svc_speci = svm_svc_cm_data[0][0] / (svm_svc_cm_data[0][1] + svm_svc_cm_data[0][0])\n",
    "print(svm_svc_speci) \n",
    "\n",
    "print(\"Accuracy: \")\n",
    "svm_svc_accuracy = (svm_svc_cm_data[0][0] + svm_svc_cm_data[1][1]) / (svm_svc_cm_data[0][0] + svm_svc_cm_data[0][1] + \n",
    "                                                          svm_svc_cm_data[1][0] + svm_svc_cm_data[1][1])\n",
    "print(svm_svc_accuracy)\n",
    "\n",
    "# END CODE"
   ]
  },
  {
   "cell_type": "code",
   "execution_count": 46,
   "metadata": {
    "colab": {},
    "colab_type": "code",
    "id": "y8OSZT7q9jVn"
   },
   "outputs": [
    {
     "name": "stdout",
     "output_type": "stream",
     "text": [
      "Decision Tree Classifier Training Confusion matrix is \n",
      "[[889 124]\n",
      " [324 385]]\n",
      "True Positive Rate: \n",
      "0.5430183356840621\n",
      "False Positive Rate: \n",
      "0.12240868706811452\n",
      "Sensitivity: \n",
      "0.5430183356840621\n",
      "Specificity: \n",
      "0.8775913129318855\n",
      "Accuracy: \n",
      "0.7398373983739838\n",
      "Decision Tree Classifier Testing Confusion matrix is \n",
      "[[215  28]\n",
      " [ 82 106]]\n",
      "True Positive Rate: \n",
      "0.5638297872340425\n",
      "False Positive Rate: \n",
      "0.11522633744855967\n",
      "Sensitivity: \n",
      "0.5638297872340425\n",
      "Specificity: \n",
      "0.8847736625514403\n",
      "Accuracy: \n",
      "0.7447795823665894\n"
     ]
    },
    {
     "data": {
      "image/png": "[encoded data removed]",
      "text/plain": [
       "<Figure size 504x288 with 2 Axes>"
      ]
     },
     "metadata": {},
     "output_type": "display_data"
    },
    {
     "data": {
      "image/png": "[encoded data removed]",
      "text/plain": [
       "<Figure size 504x288 with 2 Axes>"
      ]
     },
     "metadata": {},
     "output_type": "display_data"
    }
   ],
   "source": [
    "\n",
    "# INITIALIZE DECISION TREE CLASSIFIER BY TAKING criterion as 'gini' , max_depth as 3, and random_state as 1\n",
    "# FIT Decision Tree ON TRAINING DATA\n",
    "# WRITE CODE HERE AND FIND THE TPR, FPR, SENSTIVITY, SPECIFICITY, ACCURACY FOR Decision Tree\n",
    "# USE THE IMPORTED CONFUSION MATRIX\n",
    "\n",
    "# START CODE\n",
    "dtc_model = DecisionTreeClassifier(criterion='gini', max_depth=3, random_state=1)\n",
    "dtc_model.fit(X_train,y_train)\n",
    "\n",
    "y_pred_dtc_training = dtc_model.predict(X_train)\n",
    "y_pred_dtc = dtc_model.predict(X_test)\n",
    "\n",
    "#Confusion Matrix - Training\n",
    "print(\"Decision Tree Classifier Training Confusion matrix is \")\n",
    "dtc_cm_data = confusion_matrix(y_train,y_pred_dtc_training)\n",
    "dtc_df_cm = pd.DataFrame(dtc_cm_data, columns=np.unique(y_train), index = np.unique(y_train))\n",
    "dtc_df_cm.index.name = 'Actual'\n",
    "dtc_df_cm.columns.name = 'Predicted'\n",
    "plt.figure(figsize = (7,4))\n",
    "sn.set(font_scale=1.4)\n",
    "sn.heatmap(dtc_df_cm, cmap=\"Blues\", annot=True,annot_kws={\"size\": 16})\n",
    "print(dtc_cm_data)\n",
    "\n",
    "#TPR\n",
    "print(\"True Positive Rate: \")\n",
    "dtc_tpr = dtc_cm_data[1][1] / (dtc_cm_data[1][1] + dtc_cm_data[1][0])\n",
    "print(dtc_tpr)\n",
    "\n",
    "#FPR\n",
    "print(\"False Positive Rate: \")\n",
    "dtc_fpr = dtc_cm_data[0][1] / (dtc_cm_data[0][1] + dtc_cm_data[0][0])\n",
    "print(dtc_fpr)\n",
    "\n",
    "#Sensitivity\n",
    "print(\"Sensitivity: \")\n",
    "dtc_sensi = dtc_tpr\n",
    "print(dtc_sensi)\n",
    "\n",
    "#Specificity\n",
    "print(\"Specificity: \")\n",
    "dtc_speci = dtc_cm_data[0][0] / (dtc_cm_data[0][1] + dtc_cm_data[0][0])\n",
    "print(dtc_speci) \n",
    "\n",
    "\n",
    "print(\"Accuracy: \")\n",
    "dtc_accuracy = (dtc_cm_data[0][0] + dtc_cm_data[1][1]) / (dtc_cm_data[0][0] + dtc_cm_data[0][1] + \n",
    "                                                          dtc_cm_data[1][0] + dtc_cm_data[1][1])\n",
    "print(dtc_accuracy)\n",
    "\n",
    "\n",
    "#Confusion Matrix - Testing\n",
    "print(\"Decision Tree Classifier Testing Confusion matrix is \")\n",
    "dtc_cm_data = confusion_matrix(y_test,y_pred_dtc)\n",
    "dtc_df_cm = pd.DataFrame(dtc_cm_data, columns=np.unique(y_test), index = np.unique(y_test))\n",
    "dtc_df_cm.index.name = 'Actual'\n",
    "dtc_df_cm.columns.name = 'Predicted'\n",
    "plt.figure(figsize = (7,4))\n",
    "sn.set(font_scale=1.4)\n",
    "sn.heatmap(dtc_df_cm, cmap=\"Blues\", annot=True,annot_kws={\"size\": 16})\n",
    "print(dtc_cm_data)\n",
    "\n",
    "#TPR\n",
    "print(\"True Positive Rate: \")\n",
    "dtc_tpr = dtc_cm_data[1][1] / (dtc_cm_data[1][1] + dtc_cm_data[1][0])\n",
    "print(dtc_tpr)\n",
    "\n",
    "#FPR\n",
    "print(\"False Positive Rate: \")\n",
    "dtc_fpr = dtc_cm_data[0][1] / (dtc_cm_data[0][1] + dtc_cm_data[0][0])\n",
    "print(dtc_fpr)\n",
    "\n",
    "#Sensitivity\n",
    "print(\"Sensitivity: \")\n",
    "dtc_sensi = dtc_tpr\n",
    "print(dtc_sensi)\n",
    "\n",
    "#Specificity\n",
    "print(\"Specificity: \")\n",
    "dtc_speci = dtc_cm_data[0][0] / (dtc_cm_data[0][1] + dtc_cm_data[0][0])\n",
    "print(dtc_speci) \n",
    "\n",
    "\n",
    "print(\"Accuracy: \")\n",
    "dtc_accuracy = (dtc_cm_data[0][0] + dtc_cm_data[1][1]) / (dtc_cm_data[0][0] + dtc_cm_data[0][1] + \n",
    "                                                          dtc_cm_data[1][0] + dtc_cm_data[1][1])\n",
    "print(dtc_accuracy)\n",
    "\n",
    "# END CODE"
   ]
  },
  {
   "cell_type": "code",
   "execution_count": 47,
   "metadata": {
    "colab": {},
    "colab_type": "code",
    "id": "HZRx_Rez9jVq"
   },
   "outputs": [
    {
     "name": "stdout",
     "output_type": "stream",
     "text": [
      "Decision Tree Classifier Training Confusion matrix is \n",
      "[[891 122]\n",
      " [323 386]]\n",
      "True Positive Rate: \n",
      "0.5444287729196051\n",
      "False Positive Rate: \n",
      "0.8795656465942744\n",
      "Sensitivity: \n",
      "0.5444287729196051\n",
      "Specificity: \n",
      "0.8795656465942744\n",
      "Accuracy: \n",
      "0.7415795586527294\n",
      "Decision Tree Classifier Testing Confusion matrix is \n",
      "[[214  29]\n",
      " [ 82 106]]\n",
      "True Positive Rate: \n",
      "0.5638297872340425\n",
      "False Positive Rate: \n",
      "0.8806584362139918\n",
      "Sensitivity: \n",
      "0.5638297872340425\n",
      "Specificity: \n",
      "0.8806584362139918\n",
      "Accuracy: \n",
      "0.7424593967517401\n"
     ]
    },
    {
     "data": {
      "image/png": "[encoded data removed]",
      "text/plain": [
       "<Figure size 504x288 with 2 Axes>"
      ]
     },
     "metadata": {},
     "output_type": "display_data"
    },
    {
     "data": {
      "image/png": "[encoded data removed]",
      "text/plain": [
       "<Figure size 504x288 with 2 Axes>"
      ]
     },
     "metadata": {},
     "output_type": "display_data"
    }
   ],
   "source": [
    "# INITIALIZE RANDOM FOREST CLASSIFIER BY TAKING no:of trees as 100 , max_depth as 3,criterion as 'gini' and random_state as 1 \n",
    "# FIT RANDOM FOREST ON TRAINING DATA\n",
    "# WRITE CODE HERE AND FIND THE TPR, FPR, SENSTIVITY, SPECIFICITY, ACCURACY FOR Random Forest\n",
    "# USE THE IMPORTED CONFUSION MATRIX\n",
    "\n",
    "# START CODE\n",
    "\n",
    "rfc_model = RandomForestClassifier(n_estimators=100, criterion='gini', max_depth=3, random_state=1)\n",
    "rfc_model.fit(X_train,y_train)\n",
    "\n",
    "y_pred_rfc_training = rfc_model.predict(X_train)\n",
    "y_pred_rfc = rfc_model.predict(X_test)\n",
    "\n",
    "#Confusion Matrix - Training\n",
    "print(\"Decision Tree Classifier Training Confusion matrix is \")\n",
    "rfc_cm_data = confusion_matrix(y_train,y_pred_rfc_training)\n",
    "rfc_df_cm = pd.DataFrame(rfc_cm_data, columns=np.unique(y_train), index = np.unique(y_train))\n",
    "rfc_df_cm.index.name = 'Actual'\n",
    "rfc_df_cm.columns.name = 'Predicted'\n",
    "plt.figure(figsize = (7,4))\n",
    "sn.set(font_scale=1.4)\n",
    "sn.heatmap(rfc_df_cm, cmap=\"Blues\", annot=True,annot_kws={\"size\": 16})\n",
    "print(rfc_cm_data)\n",
    "\n",
    "#TPR\n",
    "print(\"True Positive Rate: \")\n",
    "rfc_tpr = rfc_cm_data[1][1] / (rfc_cm_data[1][1] + rfc_cm_data[1][0])\n",
    "print(rfc_tpr)\n",
    "\n",
    "#FPR\n",
    "print(\"False Positive Rate: \")\n",
    "rfc_fpr = rfc_cm_data[0][0] / (rfc_cm_data[0][1] + rfc_cm_data[0][0])\n",
    "print(rfc_fpr)\n",
    "\n",
    "#Sensitivity\n",
    "print(\"Sensitivity: \")\n",
    "rfc_sensi = rfc_tpr\n",
    "print(rfc_sensi)\n",
    "\n",
    "#Specificity\n",
    "print(\"Specificity: \")\n",
    "rfc_speci = rfc_cm_data[0][0] / (rfc_cm_data[0][1] + rfc_cm_data[0][0])\n",
    "print(rfc_speci) \n",
    "\n",
    "print(\"Accuracy: \")\n",
    "rfc_accuracy = (rfc_cm_data[0][0] + rfc_cm_data[1][1]) / (rfc_cm_data[0][0] + rfc_cm_data[0][1] + \n",
    "                                                          rfc_cm_data[1][0] + rfc_cm_data[1][1])\n",
    "print(rfc_accuracy)\n",
    "\n",
    "#Confusion Matrix - Testing\n",
    "print(\"Decision Tree Classifier Testing Confusion matrix is \")\n",
    "rfc_cm_data = confusion_matrix(y_test,y_pred_rfc)\n",
    "rfc_df_cm = pd.DataFrame(rfc_cm_data, columns=np.unique(y_test), index = np.unique(y_test))\n",
    "rfc_df_cm.index.name = 'Actual'\n",
    "rfc_df_cm.columns.name = 'Predicted'\n",
    "plt.figure(figsize = (7,4))\n",
    "sn.set(font_scale=1.4)\n",
    "sn.heatmap(rfc_df_cm, cmap=\"Blues\", annot=True,annot_kws={\"size\": 16})\n",
    "print(rfc_cm_data)\n",
    "\n",
    "#TPR\n",
    "print(\"True Positive Rate: \")\n",
    "rfc_tpr = rfc_cm_data[1][1] / (rfc_cm_data[1][1] + rfc_cm_data[1][0])\n",
    "print(rfc_tpr)\n",
    "\n",
    "#FPR\n",
    "print(\"False Positive Rate: \")\n",
    "rfc_fpr = rfc_cm_data[0][0] / (rfc_cm_data[0][1] + rfc_cm_data[0][0])\n",
    "print(rfc_fpr)\n",
    "\n",
    "#Sensitivity\n",
    "print(\"Sensitivity: \")\n",
    "rfc_sensi = rfc_tpr\n",
    "print(rfc_sensi)\n",
    "\n",
    "#Specificity\n",
    "print(\"Specificity: \")\n",
    "rfc_speci = rfc_cm_data[0][0] / (rfc_cm_data[0][1] + rfc_cm_data[0][0])\n",
    "print(rfc_speci) \n",
    "\n",
    "print(\"Accuracy: \")\n",
    "rfc_accuracy = (rfc_cm_data[0][0] + rfc_cm_data[1][1]) / (rfc_cm_data[0][0] + rfc_cm_data[0][1] + \n",
    "                                                          rfc_cm_data[1][0] + rfc_cm_data[1][1])\n",
    "print(rfc_accuracy)\n",
    "\n",
    "# END CODE"
   ]
  },
  {
   "cell_type": "code",
   "execution_count": null,
   "metadata": {},
   "outputs": [],
   "source": []
  }
 ],
 "metadata": {
  "colab": {
   "collapsed_sections": [],
   "name": "WEEK4.ipynb",
   "provenance": []
  },
  "kernelspec": {
   "display_name": "Python 3",
   "language": "python",
   "name": "python3"
  },
  "language_info": {
   "codemirror_mode": {
    "name": "ipython",
    "version": 3
   },
   "file_extension": ".py",
   "mimetype": "text/x-python",
   "name": "python",
   "nbconvert_exporter": "python",
   "pygments_lexer": "ipython3",
   "version": "3.7.1"
  }
 },
 "nbformat": 4,
 "nbformat_minor": 1
}
